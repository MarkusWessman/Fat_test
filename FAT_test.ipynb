{
 "cells": [
  {
   "cell_type": "code",
   "execution_count": 1,
   "metadata": {},
   "outputs": [],
   "source": [
    "from pyudptest import Device, CommandPacket\n",
    "from matplotlib import pyplot as plt\n",
    "import asyncio\n",
    "from ipywidgets import interact, interact_manual, Output, VBox, HTML, widgets\n",
    "import nest_asyncio\n",
    "from commands import *\n",
    "nest_asyncio.apply() # For being able to use asyncio.run()\n",
    "import time\n"
   ]
  },
  {
   "cell_type": "markdown",
   "metadata": {},
   "source": [
    "# FAT test \"Medusa\""
   ]
  },
  {
   "cell_type": "markdown",
   "metadata": {},
   "source": [
    "Welcome to the FAT-test for the medusa instrument. The tests in this program ensure that the Medusa system is properly installed. \n",
    "\n",
    "The first tests test that all components are installed correctly. If a stand-alone test needs to be done on the pump module it can be made with the \"Pump module test\". If the complete system is suposed to be tested the test can be skipped and proceed with the system test."
   ]
  },
  {
   "cell_type": "markdown",
   "metadata": {},
   "source": [
    "# Set IP adress"
   ]
  },
  {
   "cell_type": "markdown",
   "metadata": {},
   "source": [
    "Set the IP adress for the device that shall be tested"
   ]
  },
  {
   "cell_type": "code",
   "execution_count": 2,
   "metadata": {},
   "outputs": [
    {
     "data": {
      "application/vnd.jupyter.widget-view+json": {
       "model_id": "a9f2eeddc4034e06a952f131faddf31a",
       "version_major": 2,
       "version_minor": 0
      },
      "text/plain": [
       "interactive(children=(Text(value='192.168.1.55', description='ip'), Output()), _dom_classes=('widget-interact'…"
      ]
     },
     "metadata": {},
     "output_type": "display_data"
    }
   ],
   "source": [
    "ip = \"192.168.1.55\"\n",
    "\n",
    "@interact(ip=ip)\n",
    "def set_ip(ip):\n",
    "    ip = ip"
   ]
  },
  {
   "cell_type": "markdown",
   "metadata": {},
   "source": [
    "# Pump module test."
   ]
  },
  {
   "cell_type": "markdown",
   "metadata": {},
   "source": [
    "\n",
    "The test can be run on either a free-standing pump or on a pump installed in the instrument. \n",
    "The test is preferably run on a free-standing pump prior to installation of the pump to make sure that the pump is working and again after installation to make sure that the installation was sucessfull.\n",
    "\n",
    "Note: If only one pump is connected to the valve board it must be in \"Pump 1\" \n",
    "\n",
    "The test connects to each of the components included in the pump module and return \"ok\" if its working and \"fail\" if not. "
   ]
  },
  {
   "cell_type": "code",
   "execution_count": 18,
   "metadata": {},
   "outputs": [
    {
     "data": {
      "application/vnd.jupyter.widget-view+json": {
       "model_id": "738240238708476d91fc79d9e8c8af88",
       "version_major": 2,
       "version_minor": 0
      },
      "text/plain": [
       "interactive(children=(Dropdown(description='Unit', options=(('Pump 1 (Left)', 'pump1'), ('Pump 2 (Right)', 'pu…"
      ]
     },
     "metadata": {},
     "output_type": "display_data"
    }
   ],
   "source": [
    "async def test_pump(Unit):\n",
    "    # Check connection with PCB by checking software number\n",
    "    number = await get_software_number(device_ip=\"192.168.1.55\", module=Unit)\n",
    "    print(number)\n",
    "\n",
    "    # Check pressure sensors\n",
    "    for x in range(1, 5):\n",
    "        pressure = await get_pressure(device_ip=\"192.168.1.55\", pos=x, unit=Unit)  # Correct 'ip' parameter\n",
    "        if pressure != 40:\n",
    "            print(\"Pressure sensor\", x, \"ok\")\n",
    "        else:\n",
    "            print(\"Error in sensor\", x)\n",
    "    #Check motor statu:\n",
    "    #...........\n",
    "\n",
    "    #Check homing sensor status. \n",
    "    #.......\n",
    "\n",
    "    # Check Homing of pump\n",
    "    home = await home_pump(device_ip=ip , flow_rate=0.001, module =Unit)  # Correct 'ip' parameter\n",
    "    if home == '0':\n",
    "        print(\"Home OK\")\n",
    "    else:\n",
    "        print(\"Home failed\")\n",
    "\n",
    "    # Check valves\n",
    "    valves = await set_nitro_valves(device_ip=ip, state= 1, pump_unit= Unit)  # Correct 'ip' parameter\n",
    "    if valves == '0':\n",
    "        print(\"Nitrogen valves ok\")\n",
    "    else:\n",
    "        print(\"Error in valves\")\n",
    "    await set_nitro_valves(device_ip=ip, state= 0, module= Unit)\n",
    "\n",
    "@interact_manual(Unit=[('Pump 1 (Left)', \"pump1\"), ('Pump 2 (Right)', \"pump2\")])\n",
    "def select_method(Unit):\n",
    "    loop = asyncio.get_event_loop()\n",
    "    loop.run_until_complete(test_pump(Unit))  # Use 'run_until_complete' to run the async function"
   ]
  },
  {
   "cell_type": "markdown",
   "metadata": {},
   "source": [
    "# System connections "
   ]
  },
  {
   "cell_type": "code",
   "execution_count": 13,
   "metadata": {},
   "outputs": [
    {
     "data": {
      "application/vnd.jupyter.widget-view+json": {
       "model_id": "82f8faa506bf4bcc9644260cb0705965",
       "version_major": 2,
       "version_minor": 0
      },
      "text/plain": [
       "interactive(children=(Button(description='Run Interact', style=ButtonStyle()), Output()), _dom_classes=('widge…"
      ]
     },
     "metadata": {},
     "output_type": "display_data"
    }
   ],
   "source": [
    "async def test_system_connections():\n",
    "    # Test pumps\n",
    "    await test_pump(\"pump1\")\n",
    "    await test_pump(\"pump2\")\n",
    "\n",
    "    # Test valve board\n",
    "    number = await get_software_number(device_ip=ip, module=\"valve\")\n",
    "    print(\"Valve Software Number:\", number)\n",
    "\n",
    "    # Check valves\n",
    "    valves = [\"pump1\", \"pump2\", \"solvent\"]\n",
    "    \n",
    "    for valve in valves:\n",
    "        home = await home_valve(device_ip=ip, valve_type=valve)\n",
    "        if home[0] == '0':\n",
    "            print(valve, \"OK\")\n",
    "        else:\n",
    "            print(valve, \"Failed\")\n",
    "    \n",
    "    home = await home_drawer(device_ip=ip)\n",
    "    if home == '0':\n",
    "        print(\"Tray OK\")\n",
    "    else:\n",
    "        print(\"Tray Failed\")\n",
    "\n",
    "    # Check LED\n",
    "    led = await set_led(device_ip=ip, data1=100, data2=100, data3=100, data4=100)\n",
    "    if led.data[0] == '0':\n",
    "        print(\"LED OK\")\n",
    "    else:\n",
    "        print(\"LED Failed\")\n",
    "    await set_led(device_ip=ip, data1=0, data2=0, data3=0, data4=0)\n",
    "\n",
    "    # check pressure sensor \n",
    "    press = await set_pressure_regulator(device_ip=ip, pressure=0)\n",
    "    if press == '0':\n",
    "        print(\"Pressure regulator OK\")\n",
    "    else:\n",
    "        print(\"Pressure regulator failed\") \n",
    "\n",
    "    #check fan\n",
    "    fan= await set_fan(device_ip=ip, speed=100)\n",
    "    if fan == '0':\n",
    "        print(\"Fan OK\")\n",
    "    else:\n",
    "        print(\"Fan Failed\")\n",
    "    fan= await set_fan(device_ip=ip, speed=0) \n",
    "\n",
    "    #check solvent valves.\n",
    "    solvalve= await set_solvent_valves(device_ip=ip, state=1)\n",
    "    if solvalve == '0':\n",
    "        print(\"solvent valves OK\")\n",
    "    else:\n",
    "        print(\"solvent valves Failed\") \n",
    " \n",
    "@interact_manual()\n",
    "def select_method():\n",
    "    loop = asyncio.get_event_loop()\n",
    "    loop.create_task(test_system_connections())\n"
   ]
  },
  {
   "cell_type": "markdown",
   "metadata": {},
   "source": [
    "# Correct flow channels"
   ]
  },
  {
   "cell_type": "markdown",
   "metadata": {},
   "source": [
    "# Leakage test"
   ]
  },
  {
   "cell_type": "markdown",
   "metadata": {},
   "source": [
    "The leakage test tests that all there are no leakages in the system. "
   ]
  },
  {
   "cell_type": "code",
   "execution_count": 12,
   "metadata": {},
   "outputs": [
    {
     "data": {
      "application/vnd.jupyter.widget-view+json": {
       "model_id": "6b4af9d2e591462aa06474ead712ecad",
       "version_major": 2,
       "version_minor": 0
      },
      "text/plain": [
       "interactive(children=(Dropdown(description='Side', options=(('Left', 'pump1 '), ('Right', 'pump2')), value='pu…"
      ]
     },
     "metadata": {},
     "output_type": "display_data"
    }
   ],
   "source": [
    "# home the pumps and valves \n",
    "async def leakage_test(Side):\n",
    "\n",
    "    await home_pump(device_ip=\"192.168.1.55\", flow_rate=0.001, module=Side )\n",
    "    await home_valves(device_ip=\"192.168.1.55\")\n",
    "        \n",
    "    # Set the pressure regulator to max voltage\n",
    "    await set_pressure_regulator(device_ip=\"192.168.1.55\", pressure= 5)\n",
    "        \n",
    "    channel_values = {\"sample\": 0, \"column\": 15, \"solvent\": 14, \"rinse\": 13}\n",
    "    channels = [\"sample\", \"column\", \"solvent\", \"rinse\"]\n",
    "\n",
    "    for channel in channels:\n",
    "        value = channel_values.get(channel)\n",
    "        \n",
    "        # Vänta på att ventilpositionen ställer in ventilen till sample positionen. \n",
    "        await set_valve_pos(device_ip=\"192.168.1.55\", valve_type=\"pump2\", pos=value)\n",
    "        \n",
    "        # Sätt nitrogenventiler till öppet läge\n",
    "        await set_nitro_valves(device_ip=\"192.168.1.55\", state=1)\n",
    "        await asyncio.sleep(1)\n",
    "        \n",
    "        # Läs av tryckvärderna\n",
    "        pressure1_start = await get_pressure(device_ip=\"192.168.1.55\", pos=1)\n",
    "        pressure2_start = await get_pressure(device_ip=\"192.168.1.55\", pos=2)\n",
    "        pressure3_start = await get_pressure(device_ip=\"192.168.1.55\", pos=3)\n",
    "        pressure4_start = await get_pressure(device_ip=\"192.168.1.55\", pos=4)\n",
    "\n",
    "        # Stäng av ventilerna och vänta på trycket i 5 sekunder\n",
    "        await set_nitro_valves(device_ip=\"192.168.1.55\", state=0)\n",
    "        await asyncio.sleep(5)\n",
    "        \n",
    "        pressure1 = await get_pressure(device_ip=\"192.168.1.55\", pos=1)\n",
    "        pressure2 = await get_pressure(device_ip=\"192.168.1.55\", pos=2)\n",
    "        pressure3 = await get_pressure(device_ip=\"192.168.1.55\", pos=3)\n",
    "        pressure4 = await get_pressure(device_ip=\"192.168.1.55\", pos=4)\n",
    "\n",
    "        if pressure1 < pressure1_start*0.5 or pressure2 < pressure2_start*0.5 or pressure3 < pressure3_start*0.5 or pressure4 < pressure4_start*0.5:\n",
    "            print(\"Leakage in \", channel)\n",
    "        else:\n",
    "            print(channel, \" Approved\")\n",
    "\n",
    "    # Set position to solvent output to test the solvent valve\n",
    "    await set_valve_pos(device_ip=\"192.168.1.55\", valve_type=\"pump2\", pos=14)\n",
    "\n",
    "    for x in range(8):\n",
    "        await set_valve_pos(device_ip=\"192.168.1.55\", valve_type=\"solvent\", pos=x)\n",
    "            \n",
    "        # Sätt nitrogenventiler till öppet läge\n",
    "        await set_nitro_valves(device_ip=\"192.168.1.55\", state=1)\n",
    "        await asyncio.sleep(1)\n",
    "        \n",
    "        # Läs av tryckvärderna\n",
    "        pressure1_start = await get_pressure(device_ip=\"192.168.1.55\", pos=1)\n",
    "        pressure2_start = await get_pressure(device_ip=\"192.168.1.55\", pos=2)\n",
    "        pressure3_start = await get_pressure(device_ip=\"192.168.1.55\", pos=3)\n",
    "        pressure4_start = await get_pressure(device_ip=\"192.168.1.55\", pos=4)\n",
    "\n",
    "        # Stäng av ventilerna och vänta på trycket i 5 sekunder\n",
    "        await set_nitro_valves(device_ip=\"192.168.1.55\", state=0)\n",
    "        await asyncio.sleep(5)\n",
    "        \n",
    "        pressure1 = await get_pressure(device_ip=\"192.168.1.55\", pos=1)\n",
    "        pressure2 = await get_pressure(device_ip=\"192.168.1.55\", pos=2)\n",
    "        pressure3 = await get_pressure(device_ip=\"192.168.1.55\", pos=3)\n",
    "        pressure4 = await get_pressure(device_ip=\"192.168.1.55\", pos=4)\n",
    "        \n",
    "        if pressure1 < pressure1_start*0.5 or pressure2 < pressure2_start*0.5 or pressure3 < pressure3_start*0.5 or pressure4 < pressure4_start*0.5:\n",
    "            print(\"Leakage in \", x)\n",
    "        else:\n",
    "            print(\"Solvent line \", x , \" Approved\")\n",
    "\n",
    "@interact_manual(Side=[('Left', \"pump1 \"), ('Right', \"pump2\")])\n",
    "def select_method(Side):\n",
    "    loop = asyncio.get_event_loop()\n",
    "    loop.create_task(leakage_test(Side))"
   ]
  },
  {
   "cell_type": "markdown",
   "metadata": {},
   "source": [
    "# Tube set-up"
   ]
  },
  {
   "cell_type": "markdown",
   "metadata": {},
   "source": [
    "Tests that the channels are correctly installed; All tubes are in the specified inlet and outlet.\n",
    "\n",
    "The test have a manual interaction and uses 4 container with water to visulize the correct flow path.\n",
    "When checking pumps it starts with checking channel 1- sample line. Attach external tubing to the sample ports and when ready the pressurized air is creating bubbles in the container if correct installed. \n",
    "Then it continus to check the channel 2- column line, channel 3- solvent line and channel 4 rinsing line. \n"
   ]
  },
  {
   "cell_type": "code",
   "execution_count": 7,
   "metadata": {},
   "outputs": [
    {
     "data": {
      "application/vnd.jupyter.widget-view+json": {
       "model_id": "e798b976760346da8eaef1a843afab01",
       "version_major": 2,
       "version_minor": 0
      },
      "text/plain": [
       "interactive(children=(Dropdown(description='Unit', options=(('Pump 1 (Left)', 'pump1'), ('Pump 2 (Right)', 'pu…"
      ]
     },
     "metadata": {},
     "output_type": "display_data"
    }
   ],
   "source": [
    "async def channel_test(module, channel):\n",
    "    await set_valve_pos(device_ip=ip, valve_type=module, pos=0)\n",
    "    await set_pressure_regulator(device_ip=ip, pressure= 5)\n",
    "\n",
    "\n",
    "\n",
    "    if module == \"pump1\" or module == \"pump2\":\n",
    "        \n",
    "        if channel == \"Sample\":\n",
    "            await set_valve_pos(device_ip=ip, valve_type=module, pos=0)\n",
    "            await set_nitro_valves(device_ip=ip, state= 1, pump_unit = module)\n",
    "            await asyncio.sleep(10)\n",
    "            await set_nitro_valves(device_ip=ip, state= 0, pump_unit = module)\n",
    "\n",
    "        if channel == \"Column\":\n",
    "            await set_valve_pos(device_ip=ip, valve_type=module, pos=15)\n",
    "            await set_nitro_valves(device_ip=ip, bank= module, state=1)\n",
    "            await asyncio.sleep(10)\n",
    "            await set_nitro_valves(device_ip=ip, state= 0, pump_unit = module)\n",
    "        \n",
    "        if channel == \"solvent\":\n",
    "            await set_valve_pos(device_ip=ip, valve_type=module, pos=14)\n",
    "            await set_solvent_valves(device_ip=ip,bank=1, state=1)\n",
    "\n",
    "            for x in range(8):   \n",
    "                await set_valve_pos(device_ip=ip, valve_type=\"solvent\", pos=x)\n",
    "                await set_solvent_valves(device_ip=ip,bank=1, state=1)\n",
    "                await set_nitro_valves(device_ip=ip, state= 1, pump_unit = \"pump1\")\n",
    "                await asyncio.sleep(10)\n",
    "                await set_nitro_valves(device_ip=ip, state= 0, pump_unit = \"pump1\")\n",
    "                await set_solvent_valves(device_ip=ip, bank= \"pump1\", state=1)\n",
    "                \n",
    "            await set_solvent_valves(device_ip=ip, bank= module, state=1)\n",
    "       \n",
    "        if channel == \"rinse\":\n",
    "            await set_valve_pos(device_ip=ip, valve_type=module, pos=13)\n",
    "            await set_nitro_valves(device_ip=ip, state= 1, pump_unit = module)\n",
    "            await asyncio.sleep(10)\n",
    "            await set_nitro_valves(device_ip=ip, state= 0, pump_unit = module)\n",
    "    \n",
    "@interact_manual(Unit=[('Pump 1 (Left)', \"pump1\"), ('Pump 2 (Right)', \"pump2\"), ('Solvent', \"solvent\")], \n",
    "                 channel=[\"Sample\", \"Column\",\"solvent\", \"rinse\"] )\n",
    "def select_method(Unit,channel):\n",
    "    loop = asyncio.get_event_loop()\n",
    "    loop.run_until_complete(channel_test(Unit,channel))"
   ]
  }
 ],
 "metadata": {
  "kernelspec": {
   "display_name": "Python 3",
   "language": "python",
   "name": "python3"
  },
  "language_info": {
   "codemirror_mode": {
    "name": "ipython",
    "version": 3
   },
   "file_extension": ".py",
   "mimetype": "text/x-python",
   "name": "python",
   "nbconvert_exporter": "python",
   "pygments_lexer": "ipython3",
   "version": "3.11.6"
  }
 },
 "nbformat": 4,
 "nbformat_minor": 2
}
